{
 "cells": [
  {
   "cell_type": "markdown",
   "id": "69ed382f-f790-4aa9-82b0-a807ec19c05d",
   "metadata": {},
   "source": [
    "# Q1. What is Lasso Regression, and how does it differ from other regression techniques?"
   ]
  },
  {
   "cell_type": "markdown",
   "id": "4061f9bc-47c6-4cae-933a-d4a40a24d5f2",
   "metadata": {},
   "source": [
    "Lasso regression is a type of regression model designed to prevent overfitting by adding a regularization term to the traditional linear regression. This model not only helps in reducing overfitting but also serves as a feature selection technique. If a feature is not strongly correlated with the target, lasso regression can set its corresponding coefficient exactly to zero, effectively excluding it from the model. In the context of gradient descent, as the regularization parameter (λλ) increases, the model becomes more aggressive in shrinking the coefficients, with the effect that less important features may be reduced to very small values or precisely to zero"
   ]
  },
  {
   "cell_type": "markdown",
   "id": "a48f4238-a743-45bb-93a0-b4b5fe6acdf6",
   "metadata": {},
   "source": [
    "# Q2. What is the main advantage of using Lasso Regression in feature selection?"
   ]
  },
  {
   "cell_type": "markdown",
   "id": "9c5a9bf4-6b06-480f-b727-b9dcbd97d054",
   "metadata": {},
   "source": [
    "The main advantage of using Lasso Regression in feature selection lies in its ability to automatically identify and remove features that are less relevant or not strongly correlated with the target variable."
   ]
  },
  {
   "cell_type": "markdown",
   "id": "8be9a399-6c43-44d9-8e47-5f8df213df72",
   "metadata": {},
   "source": [
    "# Q3. How do you interpret the coefficients of a Lasso Regression model?"
   ]
  },
  {
   "cell_type": "markdown",
   "id": "dd0ddd72-3085-4349-a2cf-217d65b1b4d3",
   "metadata": {},
   "source": [
    "   1) Magnitude and Sign:\n",
    "        Big number: Strong effect.\n",
    "        Positive (+) or negative (-): Direction of the effect.\n",
    "\n",
    "   2) Zero Coefficients:\n",
    "        Zero means \"not important.\"\n",
    "        Some features don't matter in the predictions.\n",
    "\n",
    "   3)  Sparse Model:\n",
    "        Only a few important features.\n",
    "        Others have zero impact.\n",
    "\n",
    "   4)  Variable Importance:\n",
    "        Non-zero numbers matter.\n",
    "        Larger number: More impact.\n",
    "\n",
    "   5) Interpretation Challenges:\n",
    "        Be careful with tiny numbers.\n",
    "        Large datasets may have noise.\n",
    "\n",
    "   6) Comparisons Across Models:\n",
    "        Change λλ: More zero coefficients.\n",
    "        Compare models for best results."
   ]
  },
  {
   "cell_type": "markdown",
   "id": "6f2a902c-d63a-4a3a-9d8e-1c3382bd26a1",
   "metadata": {},
   "source": [
    "# Q4. What are the tuning parameters that can be adjusted in Lasso Regression, and how do they affect the model's performance?"
   ]
  },
  {
   "cell_type": "markdown",
   "id": "ad747552-5c90-4f6b-b38e-51610221934d",
   "metadata": {},
   "source": [
    "the tuning parameter that is ajusted in lasso regression is lambda when the lamda value is increasing the theta value has been decreasing."
   ]
  },
  {
   "cell_type": "markdown",
   "id": "9cecdeaa-e7bb-446b-906c-6f1c5ea7eb01",
   "metadata": {},
   "source": [
    "# Q5. Can Lasso Regression be used for non-linear regression problems? If yes, how?"
   ]
  },
  {
   "cell_type": "markdown",
   "id": "81ca1693-a8fc-4a44-a68e-c2495648d26c",
   "metadata": {},
   "source": [
    "Lasso Regression is a technique commonly associated with linear regression "
   ]
  },
  {
   "cell_type": "markdown",
   "id": "e00d1cd1-a751-465b-b37a-3ed11b4aa939",
   "metadata": {},
   "source": [
    "# Q6. What is the difference between Ridge Regression and Lasso Regression?"
   ]
  },
  {
   "cell_type": "markdown",
   "id": "2f554277-a928-4db7-be4c-3732c335309f",
   "metadata": {},
   "source": [
    "1) lasso regression used l1 regularization while ridge regression uses l2 regularization.\n",
    "2) lasso regression can for them to be exactly zero while ridge regression shrinks conefficent less significant feature coeffiecent to zero."
   ]
  },
  {
   "cell_type": "markdown",
   "id": "5f44281a-417c-4066-8484-40a1ac9d8098",
   "metadata": {},
   "source": [
    "# Q7. Can Lasso Regression handle multicollinearity in the input features? If yes, how?"
   ]
  },
  {
   "cell_type": "markdown",
   "id": "c7d5e653-8411-43ef-8a35-26ede3607e59",
   "metadata": {},
   "source": [
    " Yes, Lasso Regression can handle multicollinearity by automatically selecting one of the correlated features and setting its coefficient to zero, effectively excluding it from the model."
   ]
  },
  {
   "cell_type": "markdown",
   "id": "cbe63eea-4d6f-4cea-aeb8-806bf04a1ac1",
   "metadata": {},
   "source": [
    "# Q8. How do you choose the optimal value of the regularization parameter (lambda) in Lasso Regression?"
   ]
  },
  {
   "cell_type": "markdown",
   "id": "2e783427-b18a-408d-b373-2d5ea0db94aa",
   "metadata": {},
   "source": [
    "The optimal regularization parameter in Lasso Regression is obtained by analyzing the model's performance through metrics measurement, typically using techniques like cross-validation. By evaluating the model on different subsets of the data with various values of the regularization parameter."
   ]
  }
 ],
 "metadata": {
  "kernelspec": {
   "display_name": "Python 3 (ipykernel)",
   "language": "python",
   "name": "python3"
  },
  "language_info": {
   "codemirror_mode": {
    "name": "ipython",
    "version": 3
   },
   "file_extension": ".py",
   "mimetype": "text/x-python",
   "name": "python",
   "nbconvert_exporter": "python",
   "pygments_lexer": "ipython3",
   "version": "3.11.5"
  },
  "widgets": {
   "application/vnd.jupyter.widget-state+json": {
    "state": {},
    "version_major": 2,
    "version_minor": 0
   }
  }
 },
 "nbformat": 4,
 "nbformat_minor": 5
}
