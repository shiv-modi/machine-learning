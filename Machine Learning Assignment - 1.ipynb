{
 "cells": [
  {
   "cell_type": "markdown",
   "source": [
    "Machine learning Assignment -1 "
   ],
   "metadata": {
    "collapsed": false
   },
   "id": "e5ed037f0a314aea"
  },
  {
   "cell_type": "markdown",
   "id": "cdb42b5e",
   "metadata": {},
   "source": [
    "Q-1 ) \n",
    "    \n",
    "    1) Artifical intelligent : Smart application perform its own task without human intervantion.\n",
    "        \n",
    "        ex : smart driving car , smart phones etc.\n",
    "        \n",
    "    2) Machine learning : It is the subset of ai that is used to analyize ,visulaize and make predictive models from the data. \n",
    "        \n",
    "        ex : stock market prediction , recommended systems etc.\n",
    "        \n",
    "    3) Deep learning : Deep learning is a method in artificial intelligence (AI) that teaches computers to process data in a way that is inspired by the human brain.\n",
    "    \n",
    "        ex : automatic driverless cars  , games, mobile precessors , image processing etc.\n",
    "        "
   ]
  },
  {
   "cell_type": "markdown",
   "id": "854a681d",
   "metadata": {},
   "source": [
    "   Q-2) \n",
    "   \n",
    "      1) In supervised Learning a model is train using labeled data by default it gives input and output both in training process.when the training process is completed.the model is tested using test data and predict the output.\n",
    "      \n",
    "        examples of supervised learning are : \n",
    "                                    \n",
    "                            1) spam detection\n",
    "                            2) fruit detection\n",
    "                            3) speech reconigation\n",
    "                            4) text detection\n",
    "                            5) image classification"
   ]
  },
  {
   "cell_type": "markdown",
   "source": [
    "Q-3) \n",
    "\n",
    "    1) Unsupervised learning a model is trained using unlabeld data.the goal od unsupervised learning is to discover patterns and relationship amongst the data without any explicit guidance.\n",
    "    \n",
    "        examples of unsupervised learning : \n",
    "            \n",
    "            1) used in recomended system \n",
    "            2) market analysis"
   ],
   "metadata": {
    "collapsed": false
   },
   "id": "d5a4e8b19516cc6b"
  },
  {
   "cell_type": "markdown",
   "source": [
    "Q-4)   \n",
    "\n",
    "        Artifical intelligent :\n",
    "                        1) Broad concept of intelligent machines\n",
    "                        2) Create intelligent machine\n",
    "                        3) Building the system that perform human like task \n",
    "                        4) example are speech reconigation,siri etc\n",
    "                        \n",
    "        Machine Learning :\n",
    "                        1) It is the subset of artifical Intelligent\n",
    "                        2) create machine that learns from data and take decision accordingly\n",
    "                        3) building the system that perdict the data through user input\n",
    "                        4) example are  recommended system etc\n",
    "        \n",
    "        Deep Learning : \n",
    "                        1) It is the subset of machine learning\n",
    "                        2) create machine learning models to mimic human brain structure\n",
    "                        3) Building systems that automatically learn and make decisions\n",
    "                        4) Example applications include image and speech recognition, natural language processing, and autonomous vehicles etc\n",
    "            "
   ],
   "metadata": {
    "collapsed": false
   },
   "id": "99a46f2c1e80b8f1"
  },
  {
   "cell_type": "markdown",
   "source": [
    "Q-5)\n",
    "\n",
    "        Supervised Learning:\n",
    "                \n",
    "            1) Data Used: Has labeled data with input-output pairs for training.\n",
    "            2) Learning Process: Teaches the model to make predictions by associating inputs with correct outputs.\n",
    "            3) Goal: Predict outcomes for new, unseen data based on learned patterns.\n",
    "        \n",
    "        Semi-Supervised Learning:\n",
    "        \n",
    "            1) Data Used: Mix of labeled and unlabeled data.\n",
    "            2) Learning Process: Learns from both labeled and unlabeled examples, combining supervised and unsupervised approaches.\n",
    "            3) Goal: Improve model performance by leveraging additional unlabeled data.\n",
    "        \n",
    "        Unsupervised Learning:\n",
    "        \n",
    "            1) Data Used: Involves only unlabeled data.\n",
    "            2) Learning Process: Discovers patterns or structures in the data without predefined outputs.\n",
    "            3) Goal: Identify hidden relationships or groupings within the data.\n"
   ],
   "metadata": {
    "collapsed": false
   },
   "id": "78474360fb1e18f8"
  },
  {
   "cell_type": "markdown",
   "source": [
    "Q-6)\n",
    "    \n",
    "    Training Split : We Just train the model\n",
    "    Validation Split : it is used to assess the model's performance and tune hyperparameters.\n",
    "    Testing Split : We Just test the model"
   ],
   "metadata": {
    "collapsed": false
   },
   "id": "81479a6915370880"
  },
  {
   "cell_type": "markdown",
   "source": [
    "Q-7)  \n",
    "     \n",
    "     Unsupervised learning is commonly used in anomaly detection because it allows the algorithm to learn the normal patterns or behaviors in the data without explicit labels for anomalies"
   ],
   "metadata": {
    "collapsed": false
   },
   "id": "28af04aee04a552d"
  },
  {
   "cell_type": "markdown",
   "source": [
    "Q-8) \n",
    "    \n",
    "    1) Linear Regression\n",
    "    2) Decision Trees\n",
    "    3) Random Forest\n",
    "    4) KNN\n",
    "    5) Naive Bayes"
   ],
   "metadata": {
    "collapsed": false
   },
   "id": "8a021f9135c1f377"
  }
 ],
 "metadata": {
  "kernelspec": {
   "display_name": "Python 3 (ipykernel)",
   "language": "python",
   "name": "python3"
  },
  "language_info": {
   "codemirror_mode": {
    "name": "ipython",
    "version": 3
   },
   "file_extension": ".py",
   "mimetype": "text/x-python",
   "name": "python",
   "nbconvert_exporter": "python",
   "pygments_lexer": "ipython3",
   "version": "3.11.5"
  }
 },
 "nbformat": 4,
 "nbformat_minor": 5
}
