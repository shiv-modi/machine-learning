{
 "cells": [
  {
   "cell_type": "markdown",
   "id": "0062e639-dbbe-47c7-b15a-f473740edeb4",
   "metadata": {},
   "source": [
    "# Q1. Explain the difference between simple linear regression and multiple linear regression. Provide an example of each."
   ]
  },
  {
   "cell_type": "code",
   "execution_count": 3,
   "id": "610aa07a-1fe5-4e40-a8d2-9373ea03e83a",
   "metadata": {
    "jp-MarkdownHeadingCollapsed": true
   },
   "outputs": [],
   "source": [
    "# Simple Linear Regression is a type of regression that has one independent and dependent variable.\n",
    "# Multiple Linear Regression has many independent variable and one dependent variable.\n",
    "\n",
    "# Example of Simple Linear Regression are : Weight and Height ,Weight is a Independent variable and we want to predict height based on weight so , Height is dependent variable.\n",
    "# Example of Multiple LInear Regression are : House Price where Independent features are : location, No of rooms , based on we want to predict price so price is depenent variable."
   ]
  },
  {
   "cell_type": "markdown",
   "id": "b7c384f4-1f99-41ad-993b-532f7fce6d49",
   "metadata": {},
   "source": [
    "# Q2. Discuss the assumptions of linear regression. How can you check whether these assumptions hold in a given dataset?"
   ]
  },
  {
   "cell_type": "code",
   "execution_count": 9,
   "id": "e475cefe-cb7d-4d1d-9c3e-20fa7c5f9197",
   "metadata": {},
   "outputs": [],
   "source": [
    "    # Assumption: The relationship between the independent variable(s) and the dependent variable is linear.\n",
    "    # Plot a scatter plot of the dependent variable against each independent variable. Look for a roughly straight-line pattern."
   ]
  },
  {
   "cell_type": "markdown",
   "id": "dd85daeb-feb3-410d-b4af-3ea0c50b548c",
   "metadata": {},
   "source": [
    "# Q3. How do you interpret the slope and intercept in a linear regression model? Provide an example using a real-world scenario."
   ]
  },
  {
   "cell_type": "code",
   "execution_count": 3,
   "id": "d1f8e895-b0b7-4915-95be-85030210f6ee",
   "metadata": {},
   "outputs": [],
   "source": [
    "# Slope : if a a slope is positive it means x-axis (independent variable ) is increases tends y-axis(Dependent variable) is also increases.if a x-axis is increases and y-axis is decreases it means slope is in negative direction.\n",
    "# Intercept: In a graph, the intercept is where the best-fit line starts on the y-axis. It represents the predicted value of the dependent variable when the independent variable is zero."
   ]
  },
  {
   "cell_type": "markdown",
   "id": "679f2acf-4184-4a08-b136-d0490338b19b",
   "metadata": {},
   "source": [
    "# Q4. Explain the concept of gradient descent. How is it used in machine learning?"
   ]
  },
  {
   "cell_type": "code",
   "execution_count": 1,
   "id": "d71dcc98-cb28-4898-b85c-912861ca126b",
   "metadata": {},
   "outputs": [],
   "source": [
    "# Gradient Descent is an optimization algorithm used to minimize the error or cost function in machine learning models. The goal is to find the minimum of the cost function, but it doesn't always guarantee a global minimum. "
   ]
  },
  {
   "cell_type": "markdown",
   "id": "1e5ad239-b1fc-4ac8-b5d6-a62323df1b7d",
   "metadata": {},
   "source": [
    "# Q5. Describe the multiple linear regression model. How does it differ from simple linear regression?"
   ]
  },
  {
   "cell_type": "code",
   "execution_count": 3,
   "id": "74237b60-2faa-4f5f-acc0-e5e3ee8b7ffa",
   "metadata": {},
   "outputs": [],
   "source": [
    "# A multiple regression model is a type of regression model that involves more than one independent variable and one dependent variable. In contrast to simple linear regression, which considers the relationship between a single independent variable and the dependent variable, multiple regression incorporates two or more independent variables to predict the outcome of the dependent variable. "
   ]
  },
  {
   "cell_type": "markdown",
   "id": "fd467b3f-ef51-4f8a-bfcb-faaffd6eaf57",
   "metadata": {},
   "source": [
    "# Q6. Explain the concept of multicollinearity in multiple linear regression. How can you detect and address this issue?"
   ]
  },
  {
   "cell_type": "code",
   "execution_count": 4,
   "id": "b17eb5e1-990b-4b4a-bae0-3a3e83d4c930",
   "metadata": {},
   "outputs": [],
   "source": [
    "# Multicollinearity occurs when two or more independent features are highly correlated with each other. It may pose a problem in a model.\n",
    "\n",
    "# address this issue : \n",
    "\n",
    "    # Remove Redundant Variables: If two or more variables are highly correlated, consider removing one of them from the model.\n",
    "\n",
    "    # Feature Selection Techniques: Use feature selection methods to identify and keep only the most important variables in the model.\n",
    "\n",
    "    # Combine Variables: Create new variables that are combinations of the correlated variables, reducing their interdependence.\n",
    "\n",
    "    # Increase Sample Size: Sometimes, multicollinearity can be mitigated by collecting more data.\n",
    "\n",
    "    # Regularization Techniques: Techniques like Ridge regression or Lasso regression can help handle multicollinearity by penalizing large coefficients."
   ]
  },
  {
   "cell_type": "markdown",
   "id": "77c22805-6215-4ea7-9da8-581e709930bc",
   "metadata": {},
   "source": [
    "# Q7. Describe the polynomial regression model. How is it different from linear regression?"
   ]
  },
  {
   "cell_type": "code",
   "execution_count": 9,
   "id": "d63a03ad-78ac-4892-87d6-1468285ab13c",
   "metadata": {},
   "outputs": [],
   "source": [
    "# Polynomial regression is a form of Linear regression where only due to the Non-linear relationship between dependent and independent variables, we add some polynomial terms to linear regression to convert it into Polynomial regression"
   ]
  },
  {
   "cell_type": "markdown",
   "id": "4d3111d9-0efe-499c-9de0-24df45f1b547",
   "metadata": {},
   "source": [
    "# Q8. What are the advantages and disadvantages of polynomial regression compared to linear regression? In what situations would you prefer to use polynomial regression?"
   ]
  },
  {
   "cell_type": "code",
   "execution_count": null,
   "id": "9fa7628a-f38e-4d7b-907e-25c0f6f14b37",
   "metadata": {},
   "outputs": [],
   "source": [
    "    # Flexible Fit: It can model curved or non-straight relationships between variables, providing a more flexible fit to the data.\n",
    "\n",
    "#     Captures Complex Patterns: Useful when the relationship between variables has twists, turns, or more complicated shapes.\n",
    "\n",
    "#     Wider Range of Relationships: Can handle a broader range of relationships compared to linear regression.\n",
    "\n",
    "# Disadvantages of Polynomial Regression:\n",
    "\n",
    "#     Overfitting Risk: There's a danger of fitting the data too closely, including noise, leading to poor predictions on new data.\n",
    "\n",
    "#     Increased Complexity: More complex models can be harder to understand and may require more computing power.\n",
    "\n",
    "#     Sensitive to Outliers: Outliers (unusual data points) can significantly impact the accuracy of the model.\n",
    "\n",
    "# When to Use Polynomial Regression:\n",
    "\n",
    "#     Curved Relationships: When data shows curves or bends that a straight line (linear regression) can't capture.\n",
    "\n",
    "#     Higher Complexity Needed: When relationships are more intricate and require a more complex model.\n",
    "\n",
    "#     Exploring Data Patterns: Useful in early data exploration to understand complex patterns."
   ]
  }
 ],
 "metadata": {
  "kernelspec": {
   "display_name": "Python 3 (ipykernel)",
   "language": "python",
   "name": "python3"
  },
  "language_info": {
   "codemirror_mode": {
    "name": "ipython",
    "version": 3
   },
   "file_extension": ".py",
   "mimetype": "text/x-python",
   "name": "python",
   "nbconvert_exporter": "python",
   "pygments_lexer": "ipython3",
   "version": "3.11.5"
  },
  "widgets": {
   "application/vnd.jupyter.widget-state+json": {
    "state": {},
    "version_major": 2,
    "version_minor": 0
   }
  }
 },
 "nbformat": 4,
 "nbformat_minor": 5
}
